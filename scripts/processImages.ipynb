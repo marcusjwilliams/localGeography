{
 "cells": [
  {
   "cell_type": "code",
   "execution_count": 2,
   "metadata": {},
   "outputs": [],
   "source": [
    "import os\n",
    "from GPSPhoto import gpsphoto"
   ]
  },
  {
   "cell_type": "code",
   "execution_count": 3,
   "metadata": {},
   "outputs": [],
   "source": [
    "filepath = '../images/source/test'\n",
    "os.chdir(filepath)"
   ]
  },
  {
   "cell_type": "code",
   "execution_count": 30,
   "metadata": {},
   "outputs": [],
   "source": [
    "l_imagesSource = os.listdir()"
   ]
  },
  {
   "cell_type": "markdown",
   "metadata": {},
   "source": [
    "Wrap this in a loop later..."
   ]
  },
  {
   "cell_type": "code",
   "execution_count": 32,
   "metadata": {},
   "outputs": [
    {
     "name": "stdout",
     "output_type": "stream",
     "text": [
      "43.72820277777778 -79.407875\n"
     ]
    }
   ],
   "source": [
    "data = gpsphoto.getGPSData('IMG_20200403_092508.jpg')\n",
    "print(data['Latitude'], data['Longitude'])\n",
    "#print (data)"
   ]
  },
  {
   "cell_type": "code",
   "execution_count": 29,
   "metadata": {},
   "outputs": [
    {
     "data": {
      "text/plain": [
       "{'GPS GPSVersionID': (0x0000) Byte=[2, 3, 0, 0] @ 13114,\n",
       " 'GPS GPSLatitudeRef': (0x0001) ASCII=N @ 13126,\n",
       " 'GPS GPSLatitude': (0x0002) Ratio=[43, 43, 5263/100] @ 13314,\n",
       " 'GPS GPSLongitudeRef': (0x0003) ASCII=W @ 13150,\n",
       " 'GPS GPSLongitude': (0x0004) Ratio=[79, 24, 343/25] @ 13338,\n",
       " 'GPS GPSAltitudeRef': (0x0005) Byte=0 @ 13174,\n",
       " 'GPS GPSAltitude': (0x0006) Ratio=120 @ 13362,\n",
       " 'GPS GPSTimeStamp': (0x0007) Ratio=[12, 40, 9] @ 13370,\n",
       " 'GPS GPSStatus': (0x0009) ASCII=A @ 13210,\n",
       " 'GPS GPSMeasureMode': (0x000A) ASCII=2 @ 13222,\n",
       " 'GPS GPSDOP': (0x000B) Ratio=0 @ 13394,\n",
       " 'GPS GPSImgDirectionRef': (0x0010) ASCII=M @ 13246,\n",
       " 'GPS GPSImgDirection': (0x0011) Ratio=0 @ 13402,\n",
       " 'GPS GPSMapDatum': (0x0012) ASCII=WGS-84    @ 13410,\n",
       " 'GPS GPSProcessingMethod': (0x001B) Undefined=[65, 83, 67, 73, 73, 0, 0, 0, 71, 80, 83, 0, 0, 0] @ 13420,\n",
       " 'GPS GPSAreaInformation': (0x001C) Undefined=[85, 78, 73, 67, 79, 68, 69, 0, 0, 0, 0, 0, 0, 0, 0, 0, 0, 0, 0, 0, ... ] @ 13434,\n",
       " 'GPS GPSDate': (0x001D) ASCII=2020:04:10 @ 13700,\n",
       " 'Image GPSInfo': (0x8825) Long=13104 @ 150}"
      ]
     },
     "execution_count": 29,
     "metadata": {},
     "output_type": "execute_result"
    }
   ],
   "source": [
    "gpsphoto.getRawData('P1040404.JPG')"
   ]
  }
 ],
 "metadata": {
  "kernelspec": {
   "display_name": "Python 3",
   "language": "python",
   "name": "python3"
  },
  "language_info": {
   "codemirror_mode": {
    "name": "ipython",
    "version": 3
   },
   "file_extension": ".py",
   "mimetype": "text/x-python",
   "name": "python",
   "nbconvert_exporter": "python",
   "pygments_lexer": "ipython3",
   "version": "3.6.6"
  }
 },
 "nbformat": 4,
 "nbformat_minor": 2
}
