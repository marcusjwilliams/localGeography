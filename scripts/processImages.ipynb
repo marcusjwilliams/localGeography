{
 "cells": [
  {
   "cell_type": "code",
   "execution_count": 51,
   "metadata": {},
   "outputs": [],
   "source": [
    "import os\n",
    "from GPSPhoto import gpsphoto\n",
    "import json\n",
    "from PIL import Image"
   ]
  },
  {
   "cell_type": "code",
   "execution_count": 52,
   "metadata": {},
   "outputs": [],
   "source": [
    "pathRoot = '/working/localGeography'\n",
    "\n",
    "pathImageSource = 'images/source'\n",
    "pathImageOutput = 'images/output'\n",
    "pathImageHost = 'https://storage.googleapis.com/local-geography/'\n",
    "\n",
    "outputStringPrefix = '2020-04-06'"
   ]
  },
  {
   "cell_type": "code",
   "execution_count": 53,
   "metadata": {},
   "outputs": [],
   "source": [
    "os.chdir(pathRoot)"
   ]
  },
  {
   "cell_type": "code",
   "execution_count": 54,
   "metadata": {},
   "outputs": [],
   "source": [
    "l_imagesSource = os.listdir(pathImageSource)"
   ]
  },
  {
   "cell_type": "code",
   "execution_count": 55,
   "metadata": {},
   "outputs": [],
   "source": [
    "l_imagesSource = list(filter(lambda x: (x.endswith('.jpg') |\n",
    "                                   x.endswith('.JPG')), l_imagesSource))"
   ]
  },
  {
   "cell_type": "code",
   "execution_count": 56,
   "metadata": {},
   "outputs": [
    {
     "name": "stdout",
     "output_type": "stream",
     "text": [
      "IMG_20200406_091514.jpg\n",
      "43.73155555555556 -79.4015\n",
      "\n",
      "IMG_20200406_091537.jpg\n",
      "43.73155555555556 -79.4015\n",
      "\n",
      "IMG_20200406_091624.jpg\n",
      "43.73239166666667 -79.40178333333334\n",
      "\n",
      "IMG_20200406_091657.jpg\n",
      "43.732144444444444 -79.40178333333334\n",
      "\n",
      "IMG_20200406_091711.jpg\n",
      "43.732144444444444 -79.40178333333334\n",
      "\n",
      "IMG_20200406_091922.jpg\n",
      "43.73239166666667 -79.4018138888889\n",
      "\n",
      "IMG_20200406_091937.jpg\n",
      "43.73239166666667 -79.4018138888889\n",
      "\n",
      "IMG_20200406_092040.jpg\n",
      "43.73239166666667 -79.4018138888889\n",
      "\n",
      "IMG_20200406_092046.jpg\n",
      "43.73239166666667 -79.4018138888889\n",
      "\n",
      "IMG_20200406_092057.jpg\n",
      "43.73239166666667 -79.4018138888889\n",
      "\n",
      "IMG_20200406_092148.jpg\n",
      "43.73239166666667 -79.4018138888889\n",
      "\n",
      "IMG_20200406_092158.jpg\n",
      "43.73239166666667 -79.4018138888889\n",
      "\n",
      "IMG_20200406_092249.jpg\n",
      "43.733719444444446 -79.4018638888889\n",
      "\n",
      "IMG_20200406_092259.jpg\n",
      "43.733719444444446 -79.4018638888889\n",
      "\n",
      "IMG_20200406_092324.jpg\n",
      "43.733719444444446 -79.4018638888889\n",
      "\n",
      "IMG_20200406_092345.jpg\n",
      "43.733719444444446 -79.4018638888889\n",
      "\n",
      "IMG_20200406_092428.jpg\n",
      "43.733719444444446 -79.4018638888889\n",
      "\n",
      "IMG_20200406_092514.jpg\n",
      "43.73462777777778 -79.40011111111112\n",
      "\n",
      "IMG_20200406_092520.jpg\n",
      "43.73462777777778 -79.40011111111112\n",
      "\n",
      "IMG_20200406_092542.jpg\n",
      "43.73462777777778 -79.40011111111112\n",
      "\n",
      "IMG_20200406_092738.jpg\n",
      "43.73577777777778 -79.40026111111112\n",
      "\n",
      "IMG_20200406_092752.jpg\n",
      "43.73577777777778 -79.40026111111112\n",
      "\n",
      "IMG_20200406_092856.jpg\n",
      "43.73598888888889 -79.40195833333334\n",
      "\n",
      "IMG_20200406_092910.jpg\n",
      "43.734500000000004 -79.40268611111112\n",
      "\n",
      "IMG_20200406_093037.jpg\n",
      "43.734500000000004 -79.40268611111112\n",
      "\n",
      "IMG_20200406_093110.jpg\n",
      "43.734500000000004 -79.40268611111112\n",
      "\n",
      "IMG_20200406_093210.jpg\n",
      "43.734500000000004 -79.40268611111112\n",
      "\n",
      "IMG_20200406_093343.jpg\n",
      "43.73523055555555 -79.40333611111112\n",
      "\n",
      "IMG_20200406_093403.jpg\n",
      "43.73523055555555 -79.40333611111112\n",
      "\n",
      "IMG_20200406_093616.jpg\n",
      "43.73407777777778 -79.40331388888889\n",
      "\n",
      "IMG_20200406_093650.jpg\n",
      "43.73411388888889 -79.40289166666668\n",
      "\n",
      "IMG_20200406_093701.jpg\n",
      "43.73411388888889 -79.40289166666668\n",
      "\n",
      "IMG_20200406_093721.jpg\n",
      "43.73411388888889 -79.40289166666668\n",
      "\n",
      "IMG_20200406_091314.jpg\n",
      "43.73109166666667 -79.40285\n",
      "\n",
      "IMG_20200406_091321.jpg\n",
      "43.73109166666667 -79.40285\n",
      "\n",
      "IMG_20200406_091331.jpg\n",
      "43.73109166666667 -79.40285\n",
      "\n",
      "IMG_20200406_091346.jpg\n",
      "43.73109166666667 -79.40285\n",
      "\n",
      "IMG_20200406_091356.jpg\n",
      "43.73109166666667 -79.40285\n",
      "\n",
      "IMG_20200406_091418.jpg\n",
      "43.73109166666667 -79.40285\n",
      "\n"
     ]
    }
   ],
   "source": [
    "l_features = []\n",
    "for imageName in l_imagesSource:\n",
    "    print(imageName)\n",
    "    data = gpsphoto.getGPSData(pathImageSource + '/' + imageName)\n",
    "    print(data['Latitude'], data['Longitude'])\n",
    "    #print (data)\n",
    "    print()\n",
    "    \n",
    "    d_feature = {}\n",
    "    d_feature['type'] = 'Feature'\n",
    "    #replace this with date-time stamp\n",
    "    d_feature['id'] = imageName\n",
    "    \n",
    "    d_geometry = {}\n",
    "    d_geometry['type'] = 'Point'\n",
    "    d_geometry['coordinates'] = [data['Longitude'], data['Latitude']]\n",
    "    \n",
    "    d_feature['geometry'] = d_geometry\n",
    "    \n",
    "    d_properties = {}\n",
    "    d_properties['type'] = 'toBeCoded'\n",
    "    d_properties['yearLabelled'] = 'toBeCoded'\n",
    "    d_properties['mark'] = 'toBeCoded'\n",
    "    #replace this with imageURI\n",
    "    d_properties['imageURI'] = pathImageHost + imageName\n",
    "    \n",
    "    d_feature['properties'] = d_properties\n",
    "    \n",
    "    l_features.append(d_feature)\n",
    "    \n",
    "    image = Image.open(pathImageSource + '/' + imageName)\n",
    "    image.thumbnail((800, 800))\n",
    "    image.save(pathImageOutput + '/' + imageName,\n",
    "              optimize=True,quality=85)"
   ]
  },
  {
   "cell_type": "code",
   "execution_count": 57,
   "metadata": {},
   "outputs": [],
   "source": [
    "d_geojson = {}\n",
    "d_geojson['type'] = 'FeatureCollection'\n",
    "d_geojson['name'] = 'images'"
   ]
  },
  {
   "cell_type": "code",
   "execution_count": 58,
   "metadata": {},
   "outputs": [],
   "source": [
    "d_geojson['features'] = l_features"
   ]
  },
  {
   "cell_type": "code",
   "execution_count": 59,
   "metadata": {},
   "outputs": [],
   "source": [
    "# Writing JSON data\n",
    "with open(outputStringPrefix + '_uncodedObjects.geojson', 'w') as f:\n",
    "    json.dump(d_geojson, f)"
   ]
  }
 ],
 "metadata": {
  "kernelspec": {
   "display_name": "Python 3",
   "language": "python",
   "name": "python3"
  },
  "language_info": {
   "codemirror_mode": {
    "name": "ipython",
    "version": 3
   },
   "file_extension": ".py",
   "mimetype": "text/x-python",
   "name": "python",
   "nbconvert_exporter": "python",
   "pygments_lexer": "ipython3",
   "version": "3.6.6"
  }
 },
 "nbformat": 4,
 "nbformat_minor": 2
}
