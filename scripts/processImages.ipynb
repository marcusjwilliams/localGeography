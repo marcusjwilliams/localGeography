{
 "cells": [
  {
   "cell_type": "code",
   "execution_count": 2,
   "metadata": {},
   "outputs": [],
   "source": [
    "import os\n",
    "from GPSPhoto import gpsphoto\n",
    "import json"
   ]
  },
  {
   "cell_type": "code",
   "execution_count": 3,
   "metadata": {},
   "outputs": [],
   "source": [
    "filepath = '../images/source/test'\n",
    "os.chdir(filepath)"
   ]
  },
  {
   "cell_type": "code",
   "execution_count": 36,
   "metadata": {},
   "outputs": [],
   "source": [
    "l_imagesSource = os.listdir()"
   ]
  },
  {
   "cell_type": "code",
   "execution_count": 38,
   "metadata": {},
   "outputs": [],
   "source": [
    "l_imagesSource = list(filter(lambda x: (x.endswith('.jpg') |\n",
    "                                   x.endswith('.JPG')), l_imagesSource))"
   ]
  },
  {
   "cell_type": "code",
   "execution_count": 52,
   "metadata": {},
   "outputs": [
    {
     "name": "stdout",
     "output_type": "stream",
     "text": [
      "P1040404.JPG\n",
      "43.73128611111111 -79.40381111111111\n",
      "\n",
      "IMG_20200403_092508.jpg\n",
      "43.72820277777778 -79.407875\n",
      "\n",
      "P1040413.JPG\n",
      "43.73081944444445 -79.40495277777778\n",
      "\n"
     ]
    }
   ],
   "source": [
    "l_features = []\n",
    "for imageName in l_imagesSource:\n",
    "    print(imageName)\n",
    "    data = gpsphoto.getGPSData(imageName)\n",
    "    print(data['Latitude'], data['Longitude'])\n",
    "    #print (data)\n",
    "    print()\n",
    "    \n",
    "    d_feature = {}\n",
    "    d_feature['type'] = 'Feature'\n",
    "    #replace this with date-time stamp\n",
    "    d_feature['id'] = imageName\n",
    "    \n",
    "    d_geometry = {}\n",
    "    d_geometry['type'] = 'Point'\n",
    "    d_geometry['coordinates'] = [data['Longitude'], data['Latitude']]\n",
    "    \n",
    "    d_feature['geometry'] = d_geometry\n",
    "    \n",
    "    d_properties = {}\n",
    "    d_properties['type'] = 'toBeCoded'\n",
    "    d_properties['yearLabelled'] = 'toBeCoded'\n",
    "    d_properties['mark'] = 'toBeCoded'\n",
    "    #replace this with imageURI\n",
    "    d_properties['imageURI'] = 'toBeCoded'\n",
    "    \n",
    "    d_feature['properties'] = d_properties\n",
    "    \n",
    "    l_features.append(d_feature)"
   ]
  },
  {
   "cell_type": "code",
   "execution_count": 53,
   "metadata": {},
   "outputs": [],
   "source": [
    "d_geojson = {}\n",
    "d_geojson['type'] = 'FeatureCollection'\n",
    "d_geojson['name'] = 'images'"
   ]
  },
  {
   "cell_type": "code",
   "execution_count": 54,
   "metadata": {},
   "outputs": [],
   "source": [
    "d_geojson['features'] = l_features"
   ]
  },
  {
   "cell_type": "code",
   "execution_count": 58,
   "metadata": {},
   "outputs": [],
   "source": [
    "filepath = '../../..'\n",
    "os.chdir(filepath)"
   ]
  },
  {
   "cell_type": "code",
   "execution_count": 61,
   "metadata": {},
   "outputs": [],
   "source": [
    "# Writing JSON data\n",
    "with open('testOut.geojson', 'w') as f:\n",
    "    json.dump(d_geojson, f)"
   ]
  }
 ],
 "metadata": {
  "kernelspec": {
   "display_name": "Python 3",
   "language": "python",
   "name": "python3"
  },
  "language_info": {
   "codemirror_mode": {
    "name": "ipython",
    "version": 3
   },
   "file_extension": ".py",
   "mimetype": "text/x-python",
   "name": "python",
   "nbconvert_exporter": "python",
   "pygments_lexer": "ipython3",
   "version": "3.6.6"
  }
 },
 "nbformat": 4,
 "nbformat_minor": 2
}
